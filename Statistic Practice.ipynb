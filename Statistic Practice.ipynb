{
 "cells": [
  {
   "cell_type": "markdown",
   "metadata": {},
   "source": [
    "### 统计基础\n",
    "1. 描述性\n",
    "* 中心位置（平均数，中位数，众数）\n",
    "* 变异程度（方差，标准差，标准差系数，平均绝对偏差）\n",
    "* 分布形态 (偏度，峰度）\n",
    "* 相对位置\n",
    "* 线性关系"
   ]
  },
  {
   "cell_type": "code",
   "execution_count": 1,
   "metadata": {},
   "outputs": [
    {
     "name": "stdout",
     "output_type": "stream",
     "text": [
      "4.0\n",
      "3.9285714285714284\n",
      "4\n",
      "3.9285714285714284\n",
      "3.5856101827117337\n"
     ]
    }
   ],
   "source": [
    "# 中心位置\n",
    "import numpy as np\n",
    "import pandas as pd \n",
    "from pandas import DataFrame,Series\n",
    "from scipy import stats\n",
    "a=[1,2,3,4,3,4,3,4,5,4,5,6,7,4]\n",
    "print(np.median(a))## 有异常值的s时候比均值更加有意义\n",
    "print(np.mean(a))\n",
    "print(stats.mode(a)[0][0])\n",
    "xwithnan=np.hstack((a,np.nan))\n",
    "print(np.nanmean(xwithnan))#带有空值的平均s数\n",
    "print(stats.gmean(a))"
   ]
  },
  {
   "cell_type": "code",
   "execution_count": 7,
   "metadata": {},
   "outputs": [
    {
     "name": "stdout",
     "output_type": "stream",
     "text": [
      "4.0\n",
      "0    4.5\n",
      "Name: 0.5, dtype: float64\n"
     ]
    }
   ],
   "source": [
    "#分位数\n",
    "num=np.arange(0,10)\n",
    "print(np.percentile(a,50))#要用100比来表示\n",
    "df=DataFrame(num)\n",
    "print(df.quantile(0.5))#0-1表示"
   ]
  },
  {
   "cell_type": "code",
   "execution_count": 44,
   "metadata": {},
   "outputs": [
    {
     "name": "stdout",
     "output_type": "stream",
     "text": [
      "6\n"
     ]
    },
    {
     "data": {
      "text/plain": [
       "6"
      ]
     },
     "execution_count": 44,
     "metadata": {},
     "output_type": "execute_result"
    }
   ],
   "source": [
    "###s数据的离散程度\n",
    "_range=np.max(a)-np.min(a)\n",
    "print(_range)\n",
    "print(np.ptp(a))"
   ]
  },
  {
   "cell_type": "code",
   "execution_count": 8,
   "metadata": {},
   "outputs": [],
   "source": [
    "## IQR s四分位间距，中间50%的s数据的极差\n",
    "IQR=np.percentile(a,75)-np.percentile(a,25)\n",
    "Q1=np.percentile(a,25)\n",
    "Q3=np.percentile(a,75)"
   ]
  },
  {
   "cell_type": "code",
   "execution_count": 10,
   "metadata": {},
   "outputs": [
    {
     "data": {
      "text/plain": [
       "7.375"
      ]
     },
     "execution_count": 10,
     "metadata": {},
     "output_type": "execute_result"
    }
   ],
   "source": [
    "## 异常值 \n",
    "Q1-1.5*IQR\n",
    "Q3+1.5*IQR"
   ]
  },
  {
   "cell_type": "markdown",
   "metadata": {},
   "source": [
    "### 方差和标准差\n"
   ]
  },
  {
   "cell_type": "code",
   "execution_count": 11,
   "metadata": {},
   "outputs": [
    {
     "data": {
      "text/plain": [
       "2.0"
      ]
     },
     "execution_count": 11,
     "metadata": {},
     "output_type": "execute_result"
    }
   ],
   "source": [
    "data=np.arange(7,14)\n",
    "np.std(data,ddof=0)"
   ]
  },
  {
   "cell_type": "code",
   "execution_count": 13,
   "metadata": {},
   "outputs": [
    {
     "data": {
      "text/plain": [
       "4.666666666666667"
      ]
     },
     "execution_count": 13,
     "metadata": {},
     "output_type": "execute_result"
    }
   ],
   "source": [
    "np.var(data,ddof=1)"
   ]
  },
  {
   "cell_type": "code",
   "execution_count": 49,
   "metadata": {},
   "outputs": [
    {
     "data": {
      "text/plain": [
       "2.160246899469287"
      ]
     },
     "execution_count": 49,
     "metadata": {},
     "output_type": "execute_result"
    }
   ],
   "source": [
    "np.std(data,ddof=1)#numpy  没有进行无偏估计，s所以必须s设置为1，自由度，在pandas 中s默认为1"
   ]
  },
  {
   "cell_type": "code",
   "execution_count": 15,
   "metadata": {},
   "outputs": [
    {
     "name": "stdout",
     "output_type": "stream",
     "text": [
      "0    2.160247\n",
      "dtype: float64\n",
      "0    4.666667\n",
      "dtype: float64\n"
     ]
    }
   ],
   "source": [
    "df=DataFrame(data)\n",
    "print(df.std())#标准差\n",
    "print(df.var())"
   ]
  },
  {
   "cell_type": "code",
   "execution_count": 20,
   "metadata": {},
   "outputs": [
    {
     "name": "stdout",
     "output_type": "stream",
     "text": [
      "0.816496580927726\n",
      "0    0.816497\n",
      "dtype: float64\n"
     ]
    }
   ],
   "source": [
    "print(stats.sem(data))\n",
    "print(df.sem())"
   ]
  },
  {
   "cell_type": "code",
   "execution_count": 12,
   "metadata": {},
   "outputs": [],
   "source": [
    "data=np.random.normal(loc=5,size=10000)\n",
    "import matplotlib.pyplot as plt\n",
    "% matplotlib inline"
   ]
  },
  {
   "cell_type": "code",
   "execution_count": 69,
   "metadata": {},
   "outputs": [
    {
     "data": {
      "text/plain": [
       "<matplotlib.collections.PathCollection at 0x1125b8898>"
      ]
     },
     "execution_count": 69,
     "metadata": {},
     "output_type": "execute_result"
    },
    {
     "data": {
      "image/png": "[encoded data removed]",
      "text/plain": [
       "<matplotlib.figure.Figure at 0x1100de7b8>"
      ]
     },
     "metadata": {},
     "output_type": "display_data"
    }
   ],
   "source": [
    "plt.scatter(np.arange(len(data)),data)"
   ]
  },
  {
   "cell_type": "code",
   "execution_count": 71,
   "metadata": {},
   "outputs": [
    {
     "name": "stdout",
     "output_type": "stream",
     "text": [
      "std: 0.9929118238659399\n",
      "se: 0.009929118238659398\n"
     ]
    }
   ],
   "source": [
    "std=np.std(data)\n",
    "print('std:',std)\n",
    "se=std/(np.sqrt(10000))\n",
    "print('se:',se)"
   ]
  },
  {
   "cell_type": "code",
   "execution_count": 64,
   "metadata": {},
   "outputs": [
    {
     "data": {
      "text/plain": [
       "10.0"
      ]
     },
     "execution_count": 64,
     "metadata": {},
     "output_type": "execute_result"
    }
   ],
   "source": [
    "np.sqrt(100)"
   ]
  },
  {
   "cell_type": "markdown",
   "metadata": {},
   "source": [
    "### 偏度和峰度\n"
   ]
  },
  {
   "cell_type": "code",
   "execution_count": 72,
   "metadata": {},
   "outputs": [
    {
     "data": {
      "text/plain": [
       "-0.000159377322478371"
      ]
     },
     "execution_count": 72,
     "metadata": {},
     "output_type": "execute_result"
    }
   ],
   "source": [
    "data=np.random.randn(1000)\n",
    "stats.skew(data)"
   ]
  },
  {
   "cell_type": "code",
   "execution_count": 74,
   "metadata": {},
   "outputs": [
    {
     "data": {
      "text/plain": [
       "-0.3202254206480526"
      ]
     },
     "execution_count": 74,
     "metadata": {},
     "output_type": "execute_result"
    }
   ],
   "source": [
    "stats.kurtosis(data)"
   ]
  },
  {
   "cell_type": "code",
   "execution_count": 76,
   "metadata": {},
   "outputs": [
    {
     "data": {
      "text/plain": [
       "0.06433180972875256"
      ]
     },
     "execution_count": 76,
     "metadata": {},
     "output_type": "execute_result"
    }
   ],
   "source": [
    "data=np.random.normal(loc=3,size=100)\n",
    "stats.skew(data)"
   ]
  },
  {
   "cell_type": "code",
   "execution_count": 77,
   "metadata": {},
   "outputs": [
    {
     "data": {
      "text/plain": [
       "-0.5544991846108083"
      ]
     },
     "execution_count": 77,
     "metadata": {},
     "output_type": "execute_result"
    }
   ],
   "source": [
    "stats.kurtosis(data)"
   ]
  },
  {
   "cell_type": "code",
   "execution_count": 84,
   "metadata": {},
   "outputs": [
    {
     "data": {
      "text/plain": [
       "<matplotlib.collections.PathCollection at 0x1127b47f0>"
      ]
     },
     "execution_count": 84,
     "metadata": {},
     "output_type": "execute_result"
    },
    {
     "data": {
      "image/png": "[encoded data removed]",
      "text/plain": [
       "<matplotlib.figure.Figure at 0x1127773c8>"
      ]
     },
     "metadata": {},
     "output_type": "display_data"
    }
   ],
   "source": [
    "mydf=stats.norm(5,3)\n",
    "x=np.linspace(-5,15,101)\n",
    "y=mydf.cdf(x)# 积累密度函数\n",
    "plt.scatter(x=x,y=y)\n",
    "plt.scatter(x=x,y=mydf.pdf(x))"
   ]
  },
  {
   "cell_type": "code",
   "execution_count": 87,
   "metadata": {},
   "outputs": [
    {
     "data": {
      "text/plain": [
       "<matplotlib.collections.PathCollection at 0x1128d0198>"
      ]
     },
     "execution_count": 87,
     "metadata": {},
     "output_type": "execute_result"
    },
    {
     "data": {
      "image/png": "[encoded data removed]",
      "text/plain": [
       "<matplotlib.figure.Figure at 0x11282bd30>"
      ]
     },
     "metadata": {},
     "output_type": "display_data"
    }
   ],
   "source": [
    "x1=np.linspace(0,1,1000)\n",
    "y=mydf.ppf(x1)\n",
    "plt.scatter(x1,y)"
   ]
  },
  {
   "cell_type": "code",
   "execution_count": 90,
   "metadata": {},
   "outputs": [
    {
     "data": {
      "text/plain": [
       "0.06543911914558365"
      ]
     },
     "execution_count": 90,
     "metadata": {},
     "output_type": "execute_result"
    }
   ],
   "source": [
    "mydf.isf(0.95)"
   ]
  },
  {
   "cell_type": "code",
   "execution_count": 93,
   "metadata": {},
   "outputs": [
    {
     "data": {
      "text/plain": [
       "0.5"
      ]
     },
     "execution_count": 93,
     "metadata": {},
     "output_type": "execute_result"
    }
   ],
   "source": [
    "mydf.cdf(5)"
   ]
  },
  {
   "cell_type": "markdown",
   "metadata": {},
   "source": [
    "### 6.2 离散分布"
   ]
  },
  {
   "cell_type": "code",
   "execution_count": 101,
   "metadata": {},
   "outputs": [
    {
     "data": {
      "text/plain": [
       "array([0, 1, 1, 1, 0, 0, 1, 1, 0, 0, 1, 1, 0, 1, 0, 0, 1, 0, 1, 1, 0, 1,\n",
       "       1, 1, 1, 1, 0, 1, 1, 0, 0, 0, 1, 0, 0, 0, 1, 1, 1, 1, 1, 1, 1, 1,\n",
       "       1, 0, 1, 1, 0, 0, 0, 1, 0, 1, 0, 1, 0, 0, 0, 1, 1, 1, 0, 0, 1, 0,\n",
       "       1, 0, 0, 1, 0, 1, 1, 1, 1, 1, 0, 1, 0, 1, 1, 1, 0, 1, 0, 0, 1, 1,\n",
       "       0, 1, 1, 1, 1, 1, 1, 0, 0, 1, 0, 1])"
      ]
     },
     "execution_count": 101,
     "metadata": {},
     "output_type": "execute_result"
    }
   ],
   "source": [
    "p=0.5\n",
    "bernoulliDist=stats.bernoulli(p)\n",
    "#p_tail=bernoulliDist.pmf(0)\n",
    "#p_head=bernoulliDist.pmf(1)\n",
    "trails=bernoulliDist.rvs(100)\n",
    "trails"
   ]
  },
  {
   "cell_type": "code",
   "execution_count": 97,
   "metadata": {},
   "outputs": [
    {
     "data": {
      "text/plain": [
       "0.5"
      ]
     },
     "execution_count": 97,
     "metadata": {},
     "output_type": "execute_result"
    }
   ],
   "source": [
    "p_tail"
   ]
  },
  {
   "cell_type": "code",
   "execution_count": 98,
   "metadata": {},
   "outputs": [
    {
     "data": {
      "text/plain": [
       "0.5"
      ]
     },
     "execution_count": 98,
     "metadata": {},
     "output_type": "execute_result"
    }
   ],
   "source": [
    "p_head"
   ]
  },
  {
   "cell_type": "code",
   "execution_count": 105,
   "metadata": {},
   "outputs": [
    {
     "data": {
      "text/plain": [
       "array([0.0625, 0.25  , 0.375 , 0.25  , 0.0625])"
      ]
     },
     "execution_count": 105,
     "metadata": {},
     "output_type": "execute_result"
    }
   ],
   "source": [
    "###二项式分布\n",
    "binomDist=stats.binom(4,0.5)\n",
    "binomDist.pmf(np.arange(5))"
   ]
  },
  {
   "cell_type": "code",
   "execution_count": 137,
   "metadata": {},
   "outputs": [
    {
     "data": {
      "text/plain": [
       "Text(0,0.5,'P(X)')"
      ]
     },
     "execution_count": 137,
     "metadata": {},
     "output_type": "execute_result"
    },
    {
     "data": {
      "image/png": "[encoded data removed]",
      "text/plain": [
       "<matplotlib.figure.Figure at 0x1a1a7e9908>"
      ]
     },
     "metadata": {},
     "output_type": "display_data"
    }
   ],
   "source": [
    "binomDist=stats.binom(20,0.5)\n",
    "x1=np.arange(20)\n",
    "y1=binomDist.pmf(x1)\n",
    "fig,ax=plt.subplots(1)\n",
    "ax.plot(x1,y1,'-o',color='g')\n",
    "\n",
    "binomDist=stats.binom(20,0.7)\n",
    "x2=np.arange(20)\n",
    "y2=binomDist.pmf(x2)\n",
    "ax.plot(x2,y2,linestyle='--',marker='o',color='r')\n",
    "binomDist=stats.binom(40,0.5)\n",
    "x3=np.arange(40)\n",
    "y3=binomDist.pmf(x3)\n",
    "ax.plot(x3,y3,linestyle='--',marker='o',color='b')\n",
    "ax.set_xlabel('X')\n",
    "ax.set_ylabel('P(X)')"
   ]
  },
  {
   "cell_type": "code",
   "execution_count": 145,
   "metadata": {},
   "outputs": [
    {
     "data": {
      "text/plain": [
       "[<matplotlib.lines.Line2D at 0x1a1a3c4eb8>]"
      ]
     },
     "execution_count": 145,
     "metadata": {},
     "output_type": "execute_result"
    },
    {
     "data": {
      "image/png": "[encoded data removed]",
      "text/plain": [
       "<matplotlib.figure.Figure at 0x1a1a8cffd0>"
      ]
     },
     "metadata": {},
     "output_type": "display_data"
    }
   ],
   "source": [
    "### 泊松分布\n",
    "lamda=1\n",
    "x=np.arange(20)\n",
    "poisson=stats.poisson(1)\n",
    "y1=poisson.pmf(x)\n",
    "poisson2=stats.poisson(4)\n",
    "y2=poisson2.pmf(x)\n",
    "poisson3=stats.poisson(10)\n",
    "y3=poisson3.cdf(x)\n",
    "fig,ax=plt.subplots(1)\n",
    "ax.plot(x,y1,'-o',color='g')\n",
    "ax.plot(x,y2,'-o',color='r')\n",
    "ax.plot(x,y3,'-o',color='k')"
   ]
  },
  {
   "cell_type": "markdown",
   "metadata": {},
   "source": [
    "## 6.3 正态分布"
   ]
  },
  {
   "cell_type": "code",
   "execution_count": 151,
   "metadata": {},
   "outputs": [
    {
     "data": {
      "text/plain": [
       "[<matplotlib.lines.Line2D at 0x1a1ad95c50>]"
      ]
     },
     "execution_count": 151,
     "metadata": {},
     "output_type": "execute_result"
    },
    {
     "data": {
      "image/png": "[encoded data removed]",
      "text/plain": [
       "<matplotlib.figure.Figure at 0x1a1a4ff710>"
      ]
     },
     "metadata": {},
     "output_type": "display_data"
    }
   ],
   "source": [
    "\n",
    "normDist=stats.norm(0,0.4)\n",
    "x=np.linspace(-10,10,1000)\n",
    "y=normDist.pdf(x)\n",
    "fig,ax=plt.subplots(1)\n",
    "ax.plot(x,y)\n",
    "normDist=stats.norm(0,1)\n",
    "x=np.linspace(-10,10,1000)\n",
    "y=normDist.pdf(x)\n",
    "ax.plot(x,y)\n",
    "normDist=stats.norm(0,2.2)\n",
    "x=np.linspace(-10,10,1000)\n",
    "y=normDist.pdf(x)\n",
    "ax.plot(x,y)\n",
    "normDist=stats.norm(-2,0.7)\n",
    "x=np.linspace(-10,10,1000)\n",
    "y=normDist.pdf(x)\n",
    "ax.plot(x,y)"
   ]
  },
  {
   "cell_type": "code",
   "execution_count": 192,
   "metadata": {},
   "outputs": [
    {
     "data": {
      "text/plain": [
       "<matplotlib.collections.PolyCollection at 0x1a1c2e3f28>"
      ]
     },
     "execution_count": 192,
     "metadata": {},
     "output_type": "execute_result"
    },
    {
     "data": {
      "image/png": "[encoded data removed]",
      "text/plain": [
       "<matplotlib.figure.Figure at 0x1a1c1a5d30>"
      ]
     },
     "metadata": {},
     "output_type": "display_data"
    }
   ],
   "source": [
    "mu=-2\n",
    "sigma=0.7\n",
    "mydist=stats.norm(mu,sigma)\n",
    "significanlevel=0.05\n",
    "\n",
    "fig,ax=plt.subplots(1)\n",
    "x=np.linspace(-10,10,1000)\n",
    "y=mydist.pdf(x)\n",
    "ax.plot(x,y)\n",
    "w1,w2=mydist.ppf([0.05/2,1-0.05/2])\n",
    "m=np.linspace(w1,w2)\n",
    "z=mydist.pdf(x2)\n",
    "\n",
    "#fig,ax=plt.subplots(1)\n",
    "ax.plot(m,z)\n",
    "plt.fill_between(m,z,interpolate=True, color='green', alpha=0.5)"
   ]
  },
  {
   "cell_type": "code",
   "execution_count": 170,
   "metadata": {},
   "outputs": [
    {
     "data": {
      "text/plain": [
       "<matplotlib.collections.PolyCollection at 0x1a1b66f160>"
      ]
     },
     "execution_count": 170,
     "metadata": {},
     "output_type": "execute_result"
    }
   ],
   "source": [
    "###画颜色"
   ]
  },
  {
   "cell_type": "code",
   "execution_count": 183,
   "metadata": {},
   "outputs": [
    {
     "data": {
      "text/plain": [
       "<matplotlib.collections.PolyCollection at 0x1a1c100cc0>"
      ]
     },
     "execution_count": 183,
     "metadata": {},
     "output_type": "execute_result"
    },
    {
     "data": {
      "image/png": "[encoded data removed]",
      "text/plain": [
       "<matplotlib.figure.Figure at 0x1a1c046080>"
      ]
     },
     "metadata": {},
     "output_type": "display_data"
    }
   ],
   "source": [
    "\n"
   ]
  },
  {
   "cell_type": "markdown",
   "metadata": {},
   "source": [
    "### t分布"
   ]
  },
  {
   "cell_type": "code",
   "execution_count": 185,
   "metadata": {},
   "outputs": [
    {
     "name": "stdout",
     "output_type": "stream",
     "text": [
      "2.0930240544082634\n",
      "-2.093024054408263\n"
     ]
    }
   ],
   "source": [
    "n=20\n",
    "df=n-1\n",
    "alpha=0.05\n",
    "l1=stats.t(df).isf(alpha/2)\n",
    "print(l1)\n",
    "l2=stats.t(df).isf(1-alpha/2)\n",
    "print(l2)"
   ]
  },
  {
   "cell_type": "code",
   "execution_count": 202,
   "metadata": {},
   "outputs": [
    {
     "data": {
      "text/plain": [
       "<matplotlib.collections.PathCollection at 0x1a1c2d1ba8>"
      ]
     },
     "execution_count": 202,
     "metadata": {},
     "output_type": "execute_result"
    },
    {
     "data": {
      "image/png": "[encoded data removed]",
      "text/plain": [
       "<matplotlib.figure.Figure at 0x1a1c3c2668>"
      ]
     },
     "metadata": {},
     "output_type": "display_data"
    }
   ],
   "source": [
    "import numpy as np\n",
    "y=stats.t(df).isf(np.linspace(0,1,1000))\n",
    "x=np.linspace(0,1,1000)\n",
    "plt.plot(x,y)\n",
    "plt.scatter(0.05/2,l1,color='r')\n",
    "plt.scatter(1-0.05/2,l2,color='g')"
   ]
  },
  {
   "cell_type": "code",
   "execution_count": 199,
   "metadata": {},
   "outputs": [
    {
     "data": {
      "text/plain": [
       "1.9599639845400545"
      ]
     },
     "execution_count": 199,
     "metadata": {},
     "output_type": "execute_result"
    }
   ],
   "source": [
    "stats.norm.isf(0.05/2)"
   ]
  },
  {
   "cell_type": "code",
   "execution_count": 203,
   "metadata": {},
   "outputs": [
    {
     "name": "stdout",
     "output_type": "stream",
     "text": [
      "-2.0930240544082634\n",
      "2.093024054408263\n"
     ]
    }
   ],
   "source": [
    "n=20\n",
    "df=n-1\n",
    "alpha=0.05\n",
    "l1=stats.t(df).ppf(alpha/2)\n",
    "print(l1)\n",
    "l2=stats.t(df).ppf(1-alpha/2)\n",
    "print(l2)"
   ]
  },
  {
   "cell_type": "code",
   "execution_count": 204,
   "metadata": {},
   "outputs": [
    {
     "data": {
      "text/plain": [
       "0.19293306654285156"
      ]
     },
     "execution_count": 204,
     "metadata": {},
     "output_type": "execute_result"
    }
   ],
   "source": [
    "data=[3.04,2.94,3.01,3.00,2.94,2.91,3.02,3.04,3.09,2.95,2.99,3.1,3.02]\n",
    "sigma=0.05\n",
    "chi2Dist=stats.chi2(len(data)-1)\n",
    "statistic=sum(((data-np.mean(data))/sigma)**2)\n",
    "chi2Dist.sf(statistic)"
   ]
  },
  {
   "cell_type": "code",
   "execution_count": 207,
   "metadata": {},
   "outputs": [
    {
     "data": {
      "text/plain": [
       "0.19293306654285156"
      ]
     },
     "execution_count": 207,
     "metadata": {},
     "output_type": "execute_result"
    }
   ],
   "source": [
    "chi2Dist.sf(statistic)"
   ]
  },
  {
   "cell_type": "code",
   "execution_count": 212,
   "metadata": {},
   "outputs": [
    {
     "name": "stdout",
     "output_type": "stream",
     "text": [
      "0.018665169931411433\n",
      "There is a significant difference between the two distribution!\n"
     ]
    }
   ],
   "source": [
    "data1=[20.7,20.3,20.3,20.3,20.7,19.9,\n",
    "      19.9,19.9,20.3,20.3,19.7,20.3]\n",
    "data2=[19.7,19.4,20.1,18.6,18.8,20.2,\n",
    "      18.7,19.]\n",
    "fval=np.var(data1,ddof=1)/np.var(data2,ddof=1)\n",
    "fd=stats.f(len(data1)-1,len(data2)-1)\n",
    "p_onetail=fd.cdf(fval)\n",
    "if (p_onetail<0.025)|(p_onetail>0.975):\n",
    "    print(p_onetail)\n",
    "    \n",
    "    print('There is a significant difference between the two distribution!')\n",
    "else:\n",
    "    print('No significant difference!')"
   ]
  },
  {
   "cell_type": "markdown",
   "metadata": {},
   "source": [
    "# 练习题"
   ]
  },
  {
   "cell_type": "code",
   "execution_count": 215,
   "metadata": {},
   "outputs": [
    {
     "data": {
      "text/plain": [
       "3.0276503540974917"
      ]
     },
     "execution_count": 215,
     "metadata": {},
     "output_type": "execute_result"
    }
   ],
   "source": [
    "data=np.arange(1,11)\n",
    "data.mean()\n",
    "np.std(data,ddof=1)"
   ]
  },
  {
   "cell_type": "code",
   "execution_count": 256,
   "metadata": {},
   "outputs": [
    {
     "data": {
      "text/plain": [
       "[<matplotlib.lines.Line2D at 0x1a1d60a0b8>]"
      ]
     },
     "execution_count": 256,
     "metadata": {},
     "output_type": "execute_result"
    },
    {
     "data": {
      "image/png": "[encoded data removed]",
      "text/plain": [
       "<matplotlib.figure.Figure at 0x1a1d76d048>"
      ]
     },
     "metadata": {},
     "output_type": "display_data"
    }
   ],
   "source": [
    "normdist=stats.norm(5,3)\n",
    "x=np.linspace(-5,15,1000)\n",
    "y=normdist.pdf(x)\n",
    "fig,ax=plt.subplots(2)\n",
    "ax[0].plot(x,y)\n",
    "data=normdist.rvs(1000)\n",
    "\n",
    "ax[1].hist(data,bins=10)\n",
    "w1=normdist.ppf(0.025)\n",
    "ax[0].plot([w1]*100,np.linspace(0,0.5,100),color='g')\n"
   ]
  },
  {
   "cell_type": "code",
   "execution_count": 227,
   "metadata": {},
   "outputs": [
    {
     "name": "stdout",
     "output_type": "stream",
     "text": [
      "std: 3.099949363632517\n"
     ]
    }
   ],
   "source": [
    "print('std:',np.std((data-data.mean()),ddof=1))"
   ]
  },
  {
   "cell_type": "code",
   "execution_count": 231,
   "metadata": {},
   "outputs": [
    {
     "data": {
      "text/plain": [
       "0.09802900620268293"
      ]
     },
     "execution_count": 231,
     "metadata": {},
     "output_type": "execute_result"
    }
   ],
   "source": [
    "stats.sem(data)"
   ]
  },
  {
   "cell_type": "code",
   "execution_count": 235,
   "metadata": {},
   "outputs": [
    {
     "data": {
      "text/plain": [
       "-0.879891953620163"
      ]
     },
     "execution_count": 235,
     "metadata": {},
     "output_type": "execute_result"
    }
   ],
   "source": [
    "normdist.ppf(0.025)"
   ]
  },
  {
   "cell_type": "code",
   "execution_count": 236,
   "metadata": {},
   "outputs": [
    {
     "data": {
      "text/plain": [
       "10.879891953620163"
      ]
     },
     "execution_count": 236,
     "metadata": {},
     "output_type": "execute_result"
    }
   ],
   "source": [
    "normdist.ppf(0.975)"
   ]
  },
  {
   "cell_type": "code",
   "execution_count": 237,
   "metadata": {},
   "outputs": [
    {
     "data": {
      "text/plain": [
       "0.09802900620268293"
      ]
     },
     "execution_count": 237,
     "metadata": {},
     "output_type": "execute_result"
    }
   ],
   "source": [
    "np.std(data,ddof=1)/np.sqrt(1000)"
   ]
  },
  {
   "cell_type": "code",
   "execution_count": 238,
   "metadata": {},
   "outputs": [
    {
     "data": {
      "text/plain": [
       "0.09802900620268293"
      ]
     },
     "execution_count": 238,
     "metadata": {},
     "output_type": "execute_result"
    }
   ],
   "source": [
    "stats.sem(data)"
   ]
  },
  {
   "cell_type": "code",
   "execution_count": 245,
   "metadata": {},
   "outputs": [
    {
     "data": {
      "text/plain": [
       "<matplotlib.collections.PathCollection at 0x1a1d550860>"
      ]
     },
     "execution_count": 245,
     "metadata": {},
     "output_type": "execute_result"
    },
    {
     "data": {
      "image/png": "[encoded data removed]",
      "text/plain": [
       "<matplotlib.figure.Figure at 0x1a1d38f940>"
      ]
     },
     "metadata": {},
     "output_type": "display_data"
    }
   ],
   "source": [
    "plt.scatter(x=[w1]*100,y=np.linspace(0,1,100))"
   ]
  },
  {
   "cell_type": "code",
   "execution_count": 251,
   "metadata": {},
   "outputs": [
    {
     "data": {
      "text/plain": [
       "[<matplotlib.lines.Line2D at 0x1a1db9cb70>]"
      ]
     },
     "execution_count": 251,
     "metadata": {},
     "output_type": "execute_result"
    },
    {
     "data": {
      "image/png": "[encoded data removed]",
      "text/plain": [
       "<matplotlib.figure.Figure at 0x1a1da3a7f0>"
      ]
     },
     "metadata": {},
     "output_type": "display_data"
    }
   ],
   "source": [
    "plt.plot([w1]*100,np.linspace(0,1,100),color='g')"
   ]
  },
  {
   "cell_type": "code",
   "execution_count": 306,
   "metadata": {},
   "outputs": [
    {
     "data": {
      "text/plain": [
       "0.3039027127266671"
      ]
     },
     "execution_count": 306,
     "metadata": {},
     "output_type": "execute_result"
    }
   ],
   "source": [
    "normdist=stats.norm(0,1)\n",
    "normdist.ppf(0.0005)\n",
    "w1=normdist.isf(0.0005)#ppf(0.9995)\n",
    "sigma=1/w1\n",
    "sigma\n"
   ]
  },
  {
   "cell_type": "code",
   "execution_count": 279,
   "metadata": {},
   "outputs": [
    {
     "data": {
      "text/plain": [
       "-17.162056903012893"
      ]
     },
     "execution_count": 279,
     "metadata": {},
     "output_type": "execute_result"
    }
   ],
   "source": [
    "### t distribution\n",
    "\n",
    "data=[52,70,65,85,62,83,59]\n",
    "mean=np.mean(data)\n",
    "t_val=(data-mean)/stats.sem(data)\n",
    "stats.t(len(data)-1).ppf(0.01/2)*stats.sem(data)"
   ]
  },
  {
   "cell_type": "code",
   "execution_count": 285,
   "metadata": {},
   "outputs": [
    {
     "data": {
      "text/plain": [
       "(array([313., 107.,  78.,  72.,  57.,  33.,  28.,  31.,  21.,  28.,  18.,\n",
       "         12.,  19.,  23.,  12.,  16.,   8.,   8.,  12.,  11.,   9.,   4.,\n",
       "          5.,   8.,   7.,   3.,   6.,   5.,   1.,   6.,   4.,   3.,   3.,\n",
       "          2.,   2.,   2.,   0.,   1.,   1.,   1.,   2.,   1.,   0.,   1.,\n",
       "          1.,   0.,   2.,   5.,   1.,   1.,   1.,   0.,   0.,   0.,   1.,\n",
       "          0.,   1.,   0.,   0.,   0.,   0.,   0.,   0.,   0.,   1.,   0.,\n",
       "          0.,   0.,   0.,   0.,   0.,   0.,   0.,   0.,   0.,   0.,   0.,\n",
       "          0.,   0.,   0.,   0.,   0.,   0.,   0.,   0.,   0.,   0.,   1.,\n",
       "          0.,   0.,   0.,   0.,   0.,   0.,   0.,   0.,   0.,   0.,   0.,\n",
       "          1.]),\n",
       " array([3.26864702e-08, 1.39456676e-01, 2.78913320e-01, 4.18369964e-01,\n",
       "        5.57826608e-01, 6.97283251e-01, 8.36739895e-01, 9.76196539e-01,\n",
       "        1.11565318e+00, 1.25510983e+00, 1.39456647e+00, 1.53402311e+00,\n",
       "        1.67347976e+00, 1.81293640e+00, 1.95239304e+00, 2.09184969e+00,\n",
       "        2.23130633e+00, 2.37076298e+00, 2.51021962e+00, 2.64967626e+00,\n",
       "        2.78913291e+00, 2.92858955e+00, 3.06804619e+00, 3.20750284e+00,\n",
       "        3.34695948e+00, 3.48641613e+00, 3.62587277e+00, 3.76532941e+00,\n",
       "        3.90478606e+00, 4.04424270e+00, 4.18369934e+00, 4.32315599e+00,\n",
       "        4.46261263e+00, 4.60206928e+00, 4.74152592e+00, 4.88098256e+00,\n",
       "        5.02043921e+00, 5.15989585e+00, 5.29935249e+00, 5.43880914e+00,\n",
       "        5.57826578e+00, 5.71772243e+00, 5.85717907e+00, 5.99663571e+00,\n",
       "        6.13609236e+00, 6.27554900e+00, 6.41500564e+00, 6.55446229e+00,\n",
       "        6.69391893e+00, 6.83337558e+00, 6.97283222e+00, 7.11228886e+00,\n",
       "        7.25174551e+00, 7.39120215e+00, 7.53065879e+00, 7.67011544e+00,\n",
       "        7.80957208e+00, 7.94902873e+00, 8.08848537e+00, 8.22794201e+00,\n",
       "        8.36739866e+00, 8.50685530e+00, 8.64631194e+00, 8.78576859e+00,\n",
       "        8.92522523e+00, 9.06468188e+00, 9.20413852e+00, 9.34359516e+00,\n",
       "        9.48305181e+00, 9.62250845e+00, 9.76196509e+00, 9.90142174e+00,\n",
       "        1.00408784e+01, 1.01803350e+01, 1.03197917e+01, 1.04592483e+01,\n",
       "        1.05987050e+01, 1.07381616e+01, 1.08776182e+01, 1.10170749e+01,\n",
       "        1.11565315e+01, 1.12959882e+01, 1.14354448e+01, 1.15749015e+01,\n",
       "        1.17143581e+01, 1.18538148e+01, 1.19932714e+01, 1.21327280e+01,\n",
       "        1.22721847e+01, 1.24116413e+01, 1.25510980e+01, 1.26905546e+01,\n",
       "        1.28300113e+01, 1.29694679e+01, 1.31089245e+01, 1.32483812e+01,\n",
       "        1.33878378e+01, 1.35272945e+01, 1.36667511e+01, 1.38062078e+01,\n",
       "        1.39456644e+01]),\n",
       " <a list of 100 Patch objects>)"
      ]
     },
     "execution_count": 285,
     "metadata": {},
     "output_type": "execute_result"
    },
    {
     "data": {
      "image/png": "[encoded data removed]",
      "text/plain": [
       "<matplotlib.figure.Figure at 0x1a1deac278>"
      ]
     },
     "metadata": {},
     "output_type": "display_data"
    }
   ],
   "source": [
    "normdist=stats.norm(0,1)\n",
    "data1=normdist.rvs(1000)\n",
    "data2=normdist.rvs(1000)\n",
    "data3=normdist.rvs(1000)\n",
    "data1=data1**2\n",
    "data2=data3**2\n",
    "data3=data3**2\n",
    "plt.hist(data1,bins=100)\n",
    "plt.hist(data2,bins=100)\n",
    "plt.hist(data3,bins=100)"
   ]
  },
  {
   "cell_type": "code",
   "execution_count": 293,
   "metadata": {},
   "outputs": [
    {
     "data": {
      "text/plain": [
       "0.5621568448605028"
      ]
     },
     "execution_count": 293,
     "metadata": {},
     "output_type": "execute_result"
    }
   ],
   "source": [
    "data1=[110,121,143]\n",
    "data2=[88,93,105,124]\n",
    "n1=len(data1)\n",
    "n2=len(data2)\n",
    "fdist=stats.f(n1-1,n2-1)\n",
    "f1=np.var(data1,ddof=1)\n",
    "f2=np.var(data2,ddof=1)\n",
    "fval=(f1)/(f2)\n",
    "fdist.cdf(fval)\n"
   ]
  },
  {
   "cell_type": "markdown",
   "metadata": {},
   "source": [
    "### 离散的"
   ]
  },
  {
   "cell_type": "code",
   "execution_count": 296,
   "metadata": {},
   "outputs": [
    {
     "data": {
      "text/plain": [
       "0.09009551296310978"
      ]
     },
     "execution_count": 296,
     "metadata": {},
     "output_type": "execute_result"
    }
   ],
   "source": [
    "p=0.37\n",
    "n=15\n",
    "binomdist=stats.binom(n,p)\n",
    "binomdist.pmf(3)"
   ]
  },
  {
   "cell_type": "code",
   "execution_count": 297,
   "metadata": {},
   "outputs": [
    {
     "data": {
      "text/plain": [
       "0.2007610097274685"
      ]
     },
     "execution_count": 297,
     "metadata": {},
     "output_type": "execute_result"
    }
   ],
   "source": [
    "binomdist.pmf(6)"
   ]
  },
  {
   "cell_type": "code",
   "execution_count": 298,
   "metadata": {},
   "outputs": [
    {
     "data": {
      "text/plain": [
       "0.014330961198412468"
      ]
     },
     "execution_count": 298,
     "metadata": {},
     "output_type": "execute_result"
    }
   ],
   "source": [
    "binomdist.pmf(10)"
   ]
  },
  {
   "cell_type": "code",
   "execution_count": 302,
   "metadata": {},
   "outputs": [
    {
     "data": {
      "text/plain": [
       "0.3042212640667041"
      ]
     },
     "execution_count": 302,
     "metadata": {},
     "output_type": "execute_result"
    }
   ],
   "source": [
    "lam=1.19\n",
    "poissondist=stats.poisson(1.19)\n",
    "poissondist.pmf(0)"
   ]
  },
  {
   "cell_type": "code",
   "execution_count": 303,
   "metadata": {},
   "outputs": [
    {
     "data": {
      "text/plain": [
       "0.2154038660224298"
      ]
     },
     "execution_count": 303,
     "metadata": {},
     "output_type": "execute_result"
    }
   ],
   "source": [
    "poissondist.pmf(2)"
   ]
  },
  {
   "cell_type": "code",
   "execution_count": 305,
   "metadata": {},
   "outputs": [
    {
     "data": {
      "text/plain": [
       "0.006049829391041528"
      ]
     },
     "execution_count": 305,
     "metadata": {},
     "output_type": "execute_result"
    }
   ],
   "source": [
    "poissondist.pmf(5)"
   ]
  },
  {
   "cell_type": "markdown",
   "metadata": {},
   "source": [
    "### chart 7"
   ]
  },
  {
   "cell_type": "code",
   "execution_count": 317,
   "metadata": {},
   "outputs": [
    {
     "data": {
      "text/plain": [
       "((array([-2.46203784, -2.12570747, -1.93122778, -1.79044653, -1.67819304,\n",
       "         -1.58381122, -1.50174123, -1.42869743, -1.36256869, -1.30191411,\n",
       "         -1.24570419, -1.19317644, -1.14374949, -1.09696931, -1.05247413,\n",
       "         -1.00997067, -0.96921765, -0.93001393, -0.89218993, -0.85560121,\n",
       "         -0.82012357, -0.78564937, -0.75208458, -0.71934648, -0.68736185,\n",
       "         -0.65606548, -0.62539893, -0.59530962, -0.56574992, -0.53667655,\n",
       "         -0.50804994, -0.47983378, -0.45199463, -0.42450149, -0.39732558,\n",
       "         -0.37044003, -0.34381966, -0.31744076, -0.29128096, -0.26531902,\n",
       "         -0.23953472, -0.21390872, -0.18842244, -0.16305799, -0.13779803,\n",
       "         -0.1126257 , -0.08752455, -0.06247843, -0.03747145, -0.01248789,\n",
       "          0.01248789,  0.03747145,  0.06247843,  0.08752455,  0.1126257 ,\n",
       "          0.13779803,  0.16305799,  0.18842244,  0.21390872,  0.23953472,\n",
       "          0.26531902,  0.29128096,  0.31744076,  0.34381966,  0.37044003,\n",
       "          0.39732558,  0.42450149,  0.45199463,  0.47983378,  0.50804994,\n",
       "          0.53667655,  0.56574992,  0.59530962,  0.62539893,  0.65606548,\n",
       "          0.68736185,  0.71934648,  0.75208458,  0.78564937,  0.82012357,\n",
       "          0.85560121,  0.89218993,  0.93001393,  0.96921765,  1.00997067,\n",
       "          1.05247413,  1.09696931,  1.14374949,  1.19317644,  1.24570419,\n",
       "          1.30191411,  1.36256869,  1.42869743,  1.50174123,  1.58381122,\n",
       "          1.67819304,  1.79044653,  1.93122778,  2.12570747,  2.46203784]),\n",
       "  array([0.07987708, 0.13331246, 0.24249049, 0.25251241, 0.31082353,\n",
       "         0.35441198, 0.35958038, 0.3981829 , 0.50057289, 0.50825275,\n",
       "         0.5294602 , 0.56163638, 0.58691345, 0.6426062 , 0.65711058,\n",
       "         0.66041539, 0.70172756, 0.76195368, 0.76955547, 0.7834246 ,\n",
       "         0.81895214, 0.83618496, 0.83950036, 0.90286071, 0.91487028,\n",
       "         0.92149276, 0.94419811, 0.94844753, 1.01368218, 1.01878052,\n",
       "         1.04854969, 1.10161517, 1.1833292 , 1.21959488, 1.30227177,\n",
       "         1.3280646 , 1.35025469, 1.44970389, 1.5547497 , 1.71275036,\n",
       "         1.73481931, 1.85865752, 1.85890549, 1.86239479, 1.8833731 ,\n",
       "         1.90642963, 1.92421811, 1.97902307, 2.07982995, 2.20177573,\n",
       "         2.20604011, 2.21581992, 2.21854991, 2.2866723 , 2.32653767,\n",
       "         2.41599033, 2.54944142, 2.56280638, 2.58838388, 2.61974295,\n",
       "         2.71462407, 2.83063439, 2.87869402, 2.93782522, 2.97519455,\n",
       "         2.99751606, 3.05831439, 3.1597139 , 3.17201999, 3.36840751,\n",
       "         3.67491429, 3.68783504, 3.7892637 , 3.97770186, 4.12184022,\n",
       "         4.33056642, 4.52322169, 4.6146867 , 4.77837272, 4.87480174,\n",
       "         5.09464423, 5.14351977, 5.3338656 , 5.40858665, 5.51151584,\n",
       "         5.67098619, 5.68267771, 5.7571537 , 5.76390337, 5.76685096,\n",
       "         5.80460299, 5.93761683, 6.74868748, 6.86848672, 6.96396454,\n",
       "         6.98987687, 7.7503613 , 7.79717347, 8.84332412, 9.08203249])),\n",
       " (2.1312163495956207, 2.7587006472698072, 0.9497555893248146))"
      ]
     },
     "execution_count": 317,
     "metadata": {},
     "output_type": "execute_result"
    },
    {
     "data": {
      "image/png": "[encoded data removed]",
      "text/plain": [
       "<matplotlib.figure.Figure at 0x1a1e03d1d0>"
      ]
     },
     "metadata": {},
     "output_type": "display_data"
    }
   ],
   "source": [
    "chi2dist=stats.chi2(3)\n",
    "data=chi2dist.rvs(100)\n",
    "stats.probplot(data,plot=plt)"
   ]
  },
  {
   "cell_type": "code",
   "execution_count": 319,
   "metadata": {},
   "outputs": [
    {
     "data": {
      "text/plain": [
       "<matplotlib.collections.PathCollection at 0x1a1e854b70>"
      ]
     },
     "execution_count": 319,
     "metadata": {},
     "output_type": "execute_result"
    },
    {
     "data": {
      "image/png": "[encoded data removed]",
      "text/plain": [
       "<matplotlib.figure.Figure at 0x1a1e54f978>"
      ]
     },
     "metadata": {},
     "output_type": "display_data"
    }
   ],
   "source": [
    "y=chi2dist.pdf(data)\n",
    "plt.scatter(data,y)"
   ]
  },
  {
   "cell_type": "markdown",
   "metadata": {},
   "source": [
    "\n",
    "### 正态性检验"
   ]
  },
  {
   "cell_type": "code",
   "execution_count": 339,
   "metadata": {},
   "outputs": [
    {
     "data": {
      "text/plain": [
       "NormaltestResult(statistic=0.897048785078368, pvalue=0.6385697350124191)"
      ]
     },
     "execution_count": 339,
     "metadata": {},
     "output_type": "execute_result"
    }
   ],
   "source": [
    "#最佳拟合，通常用CDF来判断\n",
    "data=stats.norm(0,1).rvs(1000)\n",
    "stats.normaltest(data)"
   ]
  },
  {
   "cell_type": "code",
   "execution_count": 340,
   "metadata": {},
   "outputs": [
    {
     "data": {
      "text/plain": [
       "NormaltestResult(statistic=8.579330365068738, pvalue=0.013709514713985219)"
      ]
     },
     "execution_count": 340,
     "metadata": {},
     "output_type": "execute_result"
    }
   ],
   "source": [
    "import random\n",
    "data2=random.sample(list(data),100)\n",
    "stats.normaltest(data2)"
   ]
  },
  {
   "cell_type": "code",
   "execution_count": 342,
   "metadata": {},
   "outputs": [
    {
     "data": {
      "text/plain": [
       "[3, 4]"
      ]
     },
     "execution_count": 342,
     "metadata": {},
     "output_type": "execute_result"
    }
   ],
   "source": [
    "a=[1,2,3,4,5]\n",
    "b=random.sample(a,2)\n",
    "b"
   ]
  },
  {
   "cell_type": "code",
   "execution_count": 358,
   "metadata": {},
   "outputs": [
    {
     "name": "stdout",
     "output_type": "stream",
     "text": [
      "84.1189018178873 -- 135.88109818211268\n",
      "128.7 -- 55.11\n"
     ]
    }
   ],
   "source": [
    "data=[109.4,76.2,128.7,93.7,85.6,117.7,117.2,87.3,100.3,55.11]\n",
    "mean=np.mean(data)\n",
    "\n",
    "t_val=(110-mean)/stats.sem(data)\n",
    "t_dist=stats.t(len(data)-1)\n",
    "print(110-t_dist.isf(0.0025)*stats.sem(data),'--',110+t_dist.isf(0.0025)*stats.sem(data))\n",
    "print(np.max(data),'--',np.min(data))\n"
   ]
  },
  {
   "cell_type": "code",
   "execution_count": 359,
   "metadata": {},
   "outputs": [
    {
     "data": {
      "text/plain": [
       "0.9502332830919252"
      ]
     },
     "execution_count": 359,
     "metadata": {},
     "output_type": "execute_result"
    }
   ],
   "source": [
    "t_dist.cdf(t_val)"
   ]
  },
  {
   "cell_type": "code",
   "execution_count": 361,
   "metadata": {},
   "outputs": [
    {
     "data": {
      "text/plain": [
       "0.0995334338161495"
      ]
     },
     "execution_count": 361,
     "metadata": {},
     "output_type": "execute_result"
    }
   ],
   "source": [
    "t_dist.sf(t_val)*2"
   ]
  },
  {
   "cell_type": "code",
   "execution_count": 35,
   "metadata": {},
   "outputs": [
    {
     "name": "stdout",
     "output_type": "stream",
     "text": [
      "mean: 6.59664162431043\n"
     ]
    },
    {
     "data": {
      "text/plain": [
       "[<matplotlib.lines.Line2D at 0x1a196026a0>]"
      ]
     },
     "execution_count": 35,
     "metadata": {},
     "output_type": "execute_result"
    },
    {
     "data": {
      "image/png": "[encoded data removed]",
      "text/plain": [
       "<matplotlib.figure.Figure at 0x1a19532a20>"
      ]
     },
     "metadata": {},
     "output_type": "display_data"
    }
   ],
   "source": [
    "from scipy import stats\n",
    "import numpy as np\n",
    "normdist=stats.norm(7,3)\n",
    "data=normdist.rvs(100)\n",
    "mean=np.mean(data)\n",
    "print('mean:',mean)\n",
    "plt.hist(data,bins=10,density=True,alpha=0.3)\n",
    "plt.scatter(data,normdist.pdf(data),color='g')\n",
    "t_dist=stats.t(len(data)-1)\n",
    "x=np.linspace(-4,4,1000)\n",
    "y=t_dist.pdf(x)\n",
    "plt.plot(x,y)"
   ]
  },
  {
   "cell_type": "code",
   "execution_count": 43,
   "metadata": {},
   "outputs": [
    {
     "data": {
      "text/plain": [
       "0.7703530151683645"
      ]
     },
     "execution_count": 43,
     "metadata": {},
     "output_type": "execute_result"
    }
   ],
   "source": [
    "t_val=(mean-6.5)/stats.sem(data)\n",
    "t_dist.sf(t_val)*2"
   ]
  },
  {
   "cell_type": "code",
   "execution_count": 45,
   "metadata": {},
   "outputs": [
    {
     "data": {
      "text/plain": [
       "0.7703530151683645"
      ]
     },
     "execution_count": 45,
     "metadata": {},
     "output_type": "execute_result"
    }
   ],
   "source": [
    "t,pval=stats.ttest_1samp(data,6.5)\n",
    "pval"
   ]
  },
  {
   "cell_type": "code",
   "execution_count": 34,
   "metadata": {},
   "outputs": [
    {
     "data": {
      "text/plain": [
       "[<matplotlib.lines.Line2D at 0x1a19519438>]"
      ]
     },
     "execution_count": 34,
     "metadata": {},
     "output_type": "execute_result"
    },
    {
     "data": {
      "image/png": "[encoded data removed]",
      "text/plain": [
       "<matplotlib.figure.Figure at 0x11247b320>"
      ]
     },
     "metadata": {},
     "output_type": "display_data"
    }
   ],
   "source": [
    "\n"
   ]
  },
  {
   "cell_type": "markdown",
   "metadata": {},
   "source": [
    "# wilcoxon 符号秩和检验"
   ]
  },
  {
   "cell_type": "code",
   "execution_count": 51,
   "metadata": {},
   "outputs": [
    {
     "name": "stderr",
     "output_type": "stream",
     "text": [
      "/Users/ccf8210/anaconda3/lib/python3.6/site-packages/scipy/stats/stats.py:1390: UserWarning: kurtosistest only valid for n>=20 ... continuing anyway, n=11\n",
      "  \"anyway, n=%i\" % int(n))\n"
     ]
    },
    {
     "data": {
      "text/plain": [
       "NormaltestResult(statistic=0.767466091426928, pvalue=0.6813132824061632)"
      ]
     },
     "execution_count": 51,
     "metadata": {},
     "output_type": "execute_result"
    }
   ],
   "source": [
    "data=np.array([5260,5470,5640,6180,6390,6515,6805,7515,7515,8230,8770])\n",
    "stats.normaltest(data)"
   ]
  },
  {
   "cell_type": "code",
   "execution_count": 52,
   "metadata": {},
   "outputs": [],
   "source": [
    "(rank,pval)=stats.wilcoxon(data-7725)"
   ]
  },
  {
   "cell_type": "code",
   "execution_count": 53,
   "metadata": {},
   "outputs": [
    {
     "data": {
      "text/plain": [
       "0.026157182329284684"
      ]
     },
     "execution_count": 53,
     "metadata": {},
     "output_type": "execute_result"
    }
   ],
   "source": [
    "pval"
   ]
  },
  {
   "cell_type": "code",
   "execution_count": 54,
   "metadata": {},
   "outputs": [
    {
     "data": {
      "text/plain": [
       "8.0"
      ]
     },
     "execution_count": 54,
     "metadata": {},
     "output_type": "execute_result"
    }
   ],
   "source": [
    "rank"
   ]
  },
  {
   "cell_type": "code",
   "execution_count": 57,
   "metadata": {},
   "outputs": [
    {
     "data": {
      "text/plain": [
       "0.9035904508547086"
      ]
     },
     "execution_count": 57,
     "metadata": {},
     "output_type": "execute_result"
    }
   ],
   "source": [
    "np.random.seed(1234)\n",
    "data=np.random.randn(10)+0.1\n",
    "data1=np.random.randn(10)*5\n",
    "data2=data1+data\n",
    "t,p_val=stats.ttest_1samp(data,0)\n",
    "p_val"
   ]
  },
  {
   "cell_type": "code",
   "execution_count": 58,
   "metadata": {},
   "outputs": [
    {
     "data": {
      "text/plain": [
       "Ttest_relResult(statistic=0.1245849229873135, pvalue=0.9035904508547089)"
      ]
     },
     "execution_count": 58,
     "metadata": {},
     "output_type": "execute_result"
    }
   ],
   "source": [
    "stats.ttest_rel(data1,data2)"
   ]
  },
  {
   "cell_type": "code",
   "execution_count": 59,
   "metadata": {},
   "outputs": [
    {
     "name": "stderr",
     "output_type": "stream",
     "text": [
      "/Users/ccf8210/anaconda3/lib/python3.6/site-packages/scipy/stats/stats.py:1390: UserWarning: kurtosistest only valid for n>=20 ... continuing anyway, n=11\n",
      "  \"anyway, n=%i\" % int(n))\n"
     ]
    },
    {
     "data": {
      "text/plain": [
       "NormaltestResult(statistic=0.767466091426928, pvalue=0.6813132824061632)"
      ]
     },
     "execution_count": 59,
     "metadata": {},
     "output_type": "execute_result"
    }
   ],
   "source": [
    "data=np.array([5260,5470,5640,6180,6390,6515,6805,7515,7515,8230,8770])\n",
    "stats.normaltest(data)"
   ]
  },
  {
   "cell_type": "code",
   "execution_count": 60,
   "metadata": {},
   "outputs": [
    {
     "data": {
      "text/plain": [
       "Ttest_1sampResult(statistic=-2.8207540608310198, pvalue=0.018137235176105812)"
      ]
     },
     "execution_count": 60,
     "metadata": {},
     "output_type": "execute_result"
    }
   ],
   "source": [
    "stats.ttest_1samp(data,7725)#显著差异"
   ]
  },
  {
   "cell_type": "code",
   "execution_count": 61,
   "metadata": {},
   "outputs": [
    {
     "data": {
      "text/plain": [
       "WilcoxonResult(statistic=8.0, pvalue=0.026157182329284684)"
      ]
     },
     "execution_count": 61,
     "metadata": {},
     "output_type": "execute_result"
    }
   ],
   "source": [
    "stats.wilcoxon(data-7725)"
   ]
  },
  {
   "cell_type": "code",
   "execution_count": 62,
   "metadata": {},
   "outputs": [
    {
     "data": {
      "text/plain": [
       "78.66666666666667"
      ]
     },
     "execution_count": 62,
     "metadata": {},
     "output_type": "execute_result"
    }
   ],
   "source": [
    "data1=np.array([76,101,66,72,88,82,79,73,76,85,75,64,76,81,86])\n",
    "data2=np.array([64,65,56,62,59,76,66,82,91,57,92,80,82,67,54])\n",
    "data1.mean()"
   ]
  },
  {
   "cell_type": "code",
   "execution_count": 63,
   "metadata": {},
   "outputs": [
    {
     "data": {
      "text/plain": [
       "LeveneResult(statistic=1.672308215682938, pvalue=0.20651779856563238)"
      ]
     },
     "execution_count": 63,
     "metadata": {},
     "output_type": "execute_result"
    }
   ],
   "source": [
    "stats.levene(data1,data2)"
   ]
  },
  {
   "cell_type": "code",
   "execution_count": 66,
   "metadata": {},
   "outputs": [
    {
     "data": {
      "text/plain": [
       "Ttest_indResult(statistic=2.0968730776547093, pvalue=0.04516066585880743)"
      ]
     },
     "execution_count": 66,
     "metadata": {},
     "output_type": "execute_result"
    }
   ],
   "source": [
    "stats.ttest_ind(data1,data2)"
   ]
  },
  {
   "cell_type": "code",
   "execution_count": 65,
   "metadata": {},
   "outputs": [
    {
     "data": {
      "text/plain": [
       "70.2"
      ]
     },
     "execution_count": 65,
     "metadata": {},
     "output_type": "execute_result"
    }
   ],
   "source": [
    "data2.mean()"
   ]
  },
  {
   "cell_type": "code",
   "execution_count": 67,
   "metadata": {},
   "outputs": [
    {
     "name": "stderr",
     "output_type": "stream",
     "text": [
      "/Users/ccf8210/anaconda3/lib/python3.6/site-packages/scipy/stats/stats.py:1390: UserWarning: kurtosistest only valid for n>=20 ... continuing anyway, n=15\n",
      "  \"anyway, n=%i\" % int(n))\n"
     ]
    },
    {
     "data": {
      "text/plain": [
       "NormaltestResult(statistic=3.300019248176772, pvalue=0.19204806032435315)"
      ]
     },
     "execution_count": 67,
     "metadata": {},
     "output_type": "execute_result"
    }
   ],
   "source": [
    "stats.normaltest(data1)"
   ]
  },
  {
   "cell_type": "code",
   "execution_count": 68,
   "metadata": {},
   "outputs": [
    {
     "name": "stderr",
     "output_type": "stream",
     "text": [
      "/Users/ccf8210/anaconda3/lib/python3.6/site-packages/scipy/stats/stats.py:1390: UserWarning: kurtosistest only valid for n>=20 ... continuing anyway, n=15\n",
      "  \"anyway, n=%i\" % int(n))\n"
     ]
    },
    {
     "data": {
      "text/plain": [
       "NormaltestResult(statistic=2.1180846889333544, pvalue=0.34678775457262334)"
      ]
     },
     "execution_count": 68,
     "metadata": {},
     "output_type": "execute_result"
    }
   ],
   "source": [
    "stats.normaltest(data2)"
   ]
  },
  {
   "cell_type": "code",
   "execution_count": 73,
   "metadata": {},
   "outputs": [
    {
     "data": {
      "text/plain": [
       "MannwhitneyuResult(statistic=155.5, pvalue=0.07740194475805182)"
      ]
     },
     "execution_count": 73,
     "metadata": {},
     "output_type": "execute_result"
    }
   ],
   "source": [
    "stats.mannwhitneyu(data1,data2,alternative='two-sided')"
   ]
  },
  {
   "cell_type": "code",
   "execution_count": 78,
   "metadata": {},
   "outputs": [
    {
     "name": "stdout",
     "output_type": "stream",
     "text": [
      "pval 0.033\n"
     ]
    }
   ],
   "source": [
    "np.random.seed(123)\n",
    "race1=np.round(np.random.randn(20)*10+90)\n",
    "race2=np.round(np.random.randn(20)*10+85)\n",
    "t,pval=stats.ttest_rel(race1,race2)\n",
    "print('pval',round(pval,3))"
   ]
  },
  {
   "cell_type": "code",
   "execution_count": 84,
   "metadata": {},
   "outputs": [
    {
     "name": "stdout",
     "output_type": "stream",
     "text": [
      "                            OLS Regression Results                            \n",
      "==============================================================================\n",
      "Dep. Variable:       I(race2 - race1)   R-squared:                       0.000\n",
      "Model:                            OLS   Adj. R-squared:                  0.000\n",
      "Method:                 Least Squares   F-statistic:                       nan\n",
      "Date:                Sat, 12 Oct 2019   Prob (F-statistic):                nan\n",
      "Time:                        13:33:35   Log-Likelihood:                -85.296\n",
      "No. Observations:                  20   AIC:                             172.6\n",
      "Df Residuals:                      19   BIC:                             173.6\n",
      "Df Model:                           0                                         \n",
      "Covariance Type:            nonrobust                                         \n",
      "==============================================================================\n",
      "                 coef    std err          t      P>|t|      [0.025      0.975]\n",
      "------------------------------------------------------------------------------\n",
      "Intercept     -9.1000      3.950     -2.304      0.033     -17.367      -0.833\n",
      "==============================================================================\n",
      "Omnibus:                        0.894   Durbin-Watson:                   2.009\n",
      "Prob(Omnibus):                  0.639   Jarque-Bera (JB):                0.793\n",
      "Skew:                           0.428   Prob(JB):                        0.673\n",
      "Kurtosis:                       2.532   Cond. No.                         1.00\n",
      "==============================================================================\n",
      "\n",
      "Warnings:\n",
      "[1] Standard Errors assume that the covariance matrix of the errors is correctly specified.\n"
     ]
    },
    {
     "name": "stderr",
     "output_type": "stream",
     "text": [
      "/Users/ccf8210/anaconda3/lib/python3.6/site-packages/statsmodels/regression/linear_model.py:1396: RuntimeWarning: invalid value encountered in double_scalars\n",
      "  return self.ess/self.df_model\n"
     ]
    }
   ],
   "source": [
    "import statsmodels.formula.api as sm\n",
    "df=DataFrame({'race1':race1,'race2':race2})\n",
    "result=sm.ols(formula='I(race2-race1)~1',data=df).fit()\n",
    "print(result.summary())"
   ]
  },
  {
   "cell_type": "markdown",
   "metadata": {},
   "source": [
    "## 单因素方差检验\n",
    "可以s是f检验"
   ]
  },
  {
   "cell_type": "markdown",
   "metadata": {},
   "source": [
    "from scipy import stats\n",
    "#F_statistic,pval=stats.f_oneway(group1,group2,group3)\n",
    "#statsmodels 中提供更为详细结果的方差分析，这个模型和数据表的结合更为紧密\n",
    ">from statsmodels.formula.api import ols\n",
    ">from statsmodels.stats.anova import anova_lm\n",
    ">model=ols('value ~ C(treatment)',df).fit()\n",
    ">anovaresults=anova_lm(model)"
   ]
  },
  {
   "cell_type": "code",
   "execution_count": null,
   "metadata": {},
   "outputs": [],
   "source": []
  },
  {
   "cell_type": "code",
   "execution_count": 93,
   "metadata": {},
   "outputs": [
    {
     "data": {
      "text/plain": [
       "<seaborn.axisgrid.FacetGrid at 0x1a19f57588>"
      ]
     },
     "execution_count": 93,
     "metadata": {},
     "output_type": "execute_result"
    },
    {
     "data": {
      "image/png": "[encoded data removed]",
      "text/plain": [
       "<matplotlib.figure.Figure at 0x1a1a8237f0>"
      ]
     },
     "metadata": {},
     "output_type": "display_data"
    }
   ],
   "source": [
    "import seaborn as sns\n",
    "import ssl\n",
    "ssl._create_default_https_context = ssl._create_unverified_context\n",
    "\n",
    "\n",
    "df=sns.load_dataset('exercise')\n",
    "sns.factorplot('time','pulse',hue='kind',col='diet',data=df,\n",
    "               palette='YlGnBu_d',aspect=.75)"
   ]
  },
  {
   "cell_type": "markdown",
   "metadata": {},
   "source": [
    "## 第九章\n"
   ]
  },
  {
   "cell_type": "code",
   "execution_count": 95,
   "metadata": {},
   "outputs": [
    {
     "name": "stdout",
     "output_type": "stream",
     "text": [
      "5.363636363636364 0.37313038594870584\n"
     ]
    }
   ],
   "source": [
    "data=np.array([10,6,5,4,5,3])\n",
    "v,p=stats.chisquare(data)# 单因素\n",
    "print(v,p)"
   ]
  },
  {
   "cell_type": "code",
   "execution_count": 109,
   "metadata": {},
   "outputs": [
    {
     "name": "stdout",
     "output_type": "stream",
     "text": [
      "pval: 0.3004 \n",
      "There are no difference between Female and Male!\n"
     ]
    }
   ],
   "source": [
    "data=np.array([[43,9],[44,4]])\n",
    "v,p,dof,expected=stats.chi2_contingency(data)\n",
    "if p>0.05:\n",
    "     print('pval:',np.round(p,4),'\\nThere are no difference between Female and Male!')\n",
    "else:\n",
    "    print('pval:',np.round(p,4),'There are siginficant difference between Female and Male!')"
   ]
  },
  {
   "cell_type": "code",
   "execution_count": 115,
   "metadata": {},
   "outputs": [
    {
     "name": "stdout",
     "output_type": "stream",
     "text": [
      "0.0\n"
     ]
    }
   ],
   "source": [
    "#配对检验 mcnemar检验\n",
    "from statsmodels.sandbox.stats.runs import mcnemar \n",
    "obs=[[101,121],[59,33]]\n",
    "chi2,p=mcnemar(obs)\n",
    "print(np.round(p,5))"
   ]
  },
  {
   "cell_type": "code",
   "execution_count": 117,
   "metadata": {},
   "outputs": [
    {
     "name": "stdout",
     "output_type": "stream",
     "text": [
      "0.2451\n"
     ]
    }
   ],
   "source": [
    "# r*c cochranc's Q 检验 响应变量只能s是1，0，的配对检验，看看有没有效果\n",
    "from statsmodels.sandbox.stats.runs import cochrans_q\n",
    "obs=np.array([[0,1,1,0,1,0,0,1,0,0,0,0],\n",
    "              [1,1,1,0,0,1,0,1,1,1,1,1],\n",
    "             [0,0,1,0,0,1,0,0,0,0,0,0]])\n",
    "q_stat,p=cochrans_q(obs)\n",
    "print(np.round(p,4))"
   ]
  },
  {
   "cell_type": "code",
   "execution_count": 118,
   "metadata": {},
   "outputs": [
    {
     "data": {
      "text/plain": [
       "13.784810126582279"
      ]
     },
     "execution_count": 118,
     "metadata": {},
     "output_type": "execute_result"
    }
   ],
   "source": [
    "q_stat"
   ]
  },
  {
   "cell_type": "code",
   "execution_count": 121,
   "metadata": {},
   "outputs": [
    {
     "data": {
      "text/plain": [
       "0.24285714285714263"
      ]
     },
     "execution_count": 121,
     "metadata": {},
     "output_type": "execute_result"
    }
   ],
   "source": [
    "#练习 \n",
    "obs=[[3,1],[1,3]]\n",
    "oddsratio,p=stats.fisher_exact(obs,alternative='greater')\n",
    "p"
   ]
  },
  {
   "cell_type": "code",
   "execution_count": 128,
   "metadata": {},
   "outputs": [
    {
     "name": "stdout",
     "output_type": "stream",
     "text": [
      "0.09966209595851808\n"
     ]
    }
   ],
   "source": [
    "obs=[[36,14],[30,25]]\n",
    "result=stats.chi2_contingency(obs)\n",
    "\n",
    "print(result[1])"
   ]
  },
  {
   "cell_type": "code",
   "execution_count": 132,
   "metadata": {},
   "outputs": [
    {
     "name": "stdout",
     "output_type": "stream",
     "text": [
      "0.06727267795922476\n"
     ]
    }
   ],
   "source": [
    "obs=[[36,14],[29,26]]\n",
    "result=stats.chi2_contingency(obs,correction=True)\n",
    "\n",
    "print(result[1])"
   ]
  },
  {
   "cell_type": "code",
   "execution_count": 133,
   "metadata": {},
   "outputs": [
    {
     "data": {
      "text/plain": [
       "Power_divergenceResult(statistic=10.4, pvalue=0.03420269940871678)"
      ]
     },
     "execution_count": 133,
     "metadata": {},
     "output_type": "execute_result"
    }
   ],
   "source": [
    "obs=[4,6,14,10,16]\n",
    "stats.chisquare(obs)"
   ]
  },
  {
   "cell_type": "code",
   "execution_count": 134,
   "metadata": {},
   "outputs": [
    {
     "name": "stdout",
     "output_type": "stream",
     "text": [
      "0.125\n"
     ]
    }
   ],
   "source": [
    "obs=[[19,1],[6,14]]\n",
    "state,p=mcnemar(obs)\n",
    "print(np.round(p,3))"
   ]
  },
  {
   "cell_type": "code",
   "execution_count": 135,
   "metadata": {},
   "outputs": [
    {
     "name": "stdout",
     "output_type": "stream",
     "text": [
      "0.031\n"
     ]
    }
   ],
   "source": [
    "obs=[[20,0],[6,14]]\n",
    "state,p=mcnemar(obs)\n",
    "print(np.round(p,3))"
   ]
  },
  {
   "cell_type": "markdown",
   "metadata": {},
   "source": [
    "## 第十章"
   ]
  },
  {
   "cell_type": "code",
   "execution_count": 154,
   "metadata": {},
   "outputs": [
    {
     "data": {
      "text/plain": [
       "[<matplotlib.lines.Line2D at 0x1a1bc812b0>]"
      ]
     },
     "execution_count": 154,
     "metadata": {},
     "output_type": "execute_result"
    },
    {
     "data": {
      "image/png": "[encoded data removed]",
      "text/plain": [
       "<matplotlib.figure.Figure at 0x1a1bba19e8>"
      ]
     },
     "metadata": {},
     "output_type": "display_data"
    }
   ],
   "source": [
    "weibulldist=stats.weibull_min(1)\n",
    "x=np.linspace(0,10,10000)\n",
    "y=weibulldist.pdf(x)\n",
    "plt.plot(x,y)\n",
    "#z=weibulldist.cdf(x)\n",
    "#plt.plot(x,z)"
   ]
  },
  {
   "cell_type": "code",
   "execution_count": 155,
   "metadata": {},
   "outputs": [
    {
     "data": {
      "text/plain": [
       "<matplotlib.collections.PathCollection at 0x1a1be08e48>"
      ]
     },
     "execution_count": 155,
     "metadata": {},
     "output_type": "execute_result"
    },
    {
     "data": {
      "image/png": "[encoded data removed]",
      "text/plain": [
       "<matplotlib.figure.Figure at 0x1a1bba8d30>"
      ]
     },
     "metadata": {},
     "output_type": "display_data"
    }
   ],
   "source": [
    "data=weibulldist.rvs(500)\n",
    "fitpar=weibulldist.ppf(data)\n",
    "plt.scatter(data,fitpar)"
   ]
  },
  {
   "cell_type": "code",
   "execution_count": 157,
   "metadata": {},
   "outputs": [
    {
     "name": "stdout",
     "output_type": "stream",
     "text": [
      "\n",
      "The following command must be run outside of the IPython shell:\n",
      "\n",
      "    $ pip install lifelines\n",
      "\n",
      "The Python package manager (pip) can only be used from outside of IPython.\n",
      "Please reissue the `pip` command in a separate terminal or command prompt.\n",
      "\n",
      "See the Python documentation for more informations on how to install packages:\n",
      "\n",
      "    https://docs.python.org/3/installing/\n"
     ]
    }
   ],
   "source": [
    "pip install lifelines"
   ]
  },
  {
   "cell_type": "code",
   "execution_count": 158,
   "metadata": {},
   "outputs": [
    {
     "data": {
      "text/plain": [
       "2"
      ]
     },
     "execution_count": 158,
     "metadata": {},
     "output_type": "execute_result"
    }
   ],
   "source": [
    "1+1"
   ]
  },
  {
   "cell_type": "code",
   "execution_count": 160,
   "metadata": {},
   "outputs": [
    {
     "ename": "ModuleNotFoundError",
     "evalue": "No module named 'lifelines'",
     "output_type": "error",
     "traceback": [
      "\u001b[0;31m---------------------------------------------------------------------------\u001b[0m",
      "\u001b[0;31mModuleNotFoundError\u001b[0m                       Traceback (most recent call last)",
      "\u001b[0;32m<ipython-input-160-c7e0bc385a6d>\u001b[0m in \u001b[0;36m<module>\u001b[0;34m()\u001b[0m\n\u001b[0;32m----> 1\u001b[0;31m \u001b[0;32mimport\u001b[0m \u001b[0mlifelines\u001b[0m\u001b[0;34m\u001b[0m\u001b[0m\n\u001b[0m",
      "\u001b[0;31mModuleNotFoundError\u001b[0m: No module named 'lifelines'"
     ]
    }
   ],
   "source": [
    "import lifelines"
   ]
  },
  {
   "cell_type": "code",
   "execution_count": 9,
   "metadata": {},
   "outputs": [
    {
     "data": {
      "text/plain": [
       "'3.6.4 |Anaconda, Inc.| (default, Jan 16 2018, 12:04:33) \\n[GCC 4.2.1 Compatible Clang 4.0.1 (tags/RELEASE_401/final)]'"
      ]
     },
     "execution_count": 9,
     "metadata": {},
     "output_type": "execute_result"
    }
   ],
   "source": [
    "### s生存曲线\n",
    "import sys\n",
    "sys.version"
   ]
  },
  {
   "cell_type": "code",
   "execution_count": null,
   "metadata": {},
   "outputs": [],
   "source": []
  },
  {
   "cell_type": "code",
   "execution_count": null,
   "metadata": {},
   "outputs": [],
   "source": []
  },
  {
   "cell_type": "code",
   "execution_count": null,
   "metadata": {},
   "outputs": [],
   "source": []
  },
  {
   "cell_type": "code",
   "execution_count": 3,
   "metadata": {},
   "outputs": [],
   "source": [
    "import pip\n",
    "import sys\n"
   ]
  },
  {
   "cell_type": "code",
   "execution_count": 12,
   "metadata": {},
   "outputs": [
    {
     "name": "stdout",
     "output_type": "stream",
     "text": [
      "Collecting lifelines\n",
      "  Downloading http://pypi.doubanio.com/packages/b2/96/74e1f74cc00474b969e137ab65246189b1e5841c6ab2eed98c65027bcfcb/lifelines-0.22.8-py2.py3-none-any.whl (338kB)\n",
      "\u001b[K    100% |████████████████████████████████| 348kB 3.8MB/s ta 0:00:011\n",
      "\u001b[?25hCollecting pandas>=0.23.0 (from lifelines)\n",
      "  Downloading http://pypi.doubanio.com/packages/73/75/42a0ec87e4f709d8d37d49f049b292578f14a4f1f6dc32a7f3c3c204e546/pandas-0.25.1-cp36-cp36m-macosx_10_9_x86_64.macosx_10_10_x86_64.whl (10.2MB)\n",
      "\u001b[K    100% |████████████████████████████████| 10.2MB 14.0MB/s ta 0:00:01\n",
      "\u001b[?25hCollecting matplotlib>=3.0 (from lifelines)\n",
      "  Downloading http://pypi.doubanio.com/packages/cf/a4/d5387a74204542a60ad1baa84cd2d3353c330e59be8cf2d47c0b11d3cde8/matplotlib-3.1.1-cp36-cp36m-macosx_10_6_intel.macosx_10_9_intel.macosx_10_9_x86_64.macosx_10_10_intel.macosx_10_10_x86_64.whl (14.4MB)\n",
      "\u001b[K    100% |████████████████████████████████| 14.4MB 7.2MB/s ta 0:00:011   28% |█████████                       | 4.1MB 3.7MB/s eta 0:00:03\n",
      "\u001b[?25hCollecting autograd>=1.3 (from lifelines)\n",
      "  Downloading http://pypi.doubanio.com/packages/23/12/b58522dc2cbbd7ab939c7b8e5542c441c9a06a8eccb00b3ecac04a739896/autograd-1.3.tar.gz\n",
      "Collecting autograd-gamma>=0.3 (from lifelines)\n",
      "  Downloading http://pypi.doubanio.com/packages/3e/87/788c4bf90cc5c534cb3b7fdb5b719175e33e2658decce75e35e2ce69766f/autograd_gamma-0.4.1-py2.py3-none-any.whl\n",
      "Requirement already satisfied: scipy>=1.0 in ./anaconda3/lib/python3.6/site-packages (from lifelines)\n",
      "Requirement already satisfied: numpy>=1.14.0 in ./anaconda3/lib/python3.6/site-packages (from lifelines)\n",
      "Requirement already satisfied: python-dateutil>=2.6.1 in ./anaconda3/lib/python3.6/site-packages (from pandas>=0.23.0->lifelines)\n",
      "Requirement already satisfied: pytz>=2017.2 in ./anaconda3/lib/python3.6/site-packages (from pandas>=0.23.0->lifelines)\n",
      "Collecting kiwisolver>=1.0.1 (from matplotlib>=3.0->lifelines)\n",
      "  Downloading http://pypi.doubanio.com/packages/49/5d/d1726d2a2fd471a69ef5014ca42812e1ccb8a13085c42bfcb238a5611f39/kiwisolver-1.1.0-cp36-cp36m-macosx_10_6_intel.macosx_10_9_intel.macosx_10_9_x86_64.macosx_10_10_intel.macosx_10_10_x86_64.whl (113kB)\n",
      "\u001b[K    100% |████████████████████████████████| 122kB 9.5MB/s ta 0:00:01\n",
      "\u001b[?25hRequirement already satisfied: cycler>=0.10 in ./anaconda3/lib/python3.6/site-packages (from matplotlib>=3.0->lifelines)\n",
      "Requirement already satisfied: pyparsing!=2.0.4,!=2.1.2,!=2.1.6,>=2.0.1 in ./anaconda3/lib/python3.6/site-packages (from matplotlib>=3.0->lifelines)\n",
      "Collecting future>=0.15.2 (from autograd>=1.3->lifelines)\n",
      "  Downloading http://pypi.doubanio.com/packages/f6/85/c273089eb6efa5644c0a1382ea553554bc0d40e00a46d989ec67f123f8b5/future-0.18.0.tar.gz (830kB)\n",
      "\u001b[K    100% |████████████████████████████████| 839kB 31.5MB/s ta 0:00:01\n",
      "\u001b[?25hRequirement already satisfied: six>=1.5 in ./anaconda3/lib/python3.6/site-packages (from python-dateutil>=2.6.1->pandas>=0.23.0->lifelines)\n",
      "Requirement already satisfied: setuptools in ./anaconda3/lib/python3.6/site-packages (from kiwisolver>=1.0.1->matplotlib>=3.0->lifelines)\n",
      "Building wheels for collected packages: autograd, future\n",
      "  Running setup.py bdist_wheel for autograd ... \u001b[?25ldone\n",
      "\u001b[?25h  Stored in directory: /Users/ccf8210/Library/Caches/pip/wheels/02/05/5e/89edb7024e5ce94efda76bd510b959c2a5fa2137c5880a65d6\n",
      "  Running setup.py bdist_wheel for future ... \u001b[?25ldone\n",
      "\u001b[?25h  Stored in directory: /Users/ccf8210/Library/Caches/pip/wheels/02/4f/ef/08a74131846220f9fcfa710556141574fac92acee7a8795eff\n",
      "Successfully built autograd future\n",
      "Installing collected packages: pandas, kiwisolver, matplotlib, future, autograd, autograd-gamma, lifelines\n",
      "  Found existing installation: pandas 0.22.0\n",
      "    Uninstalling pandas-0.22.0:\n",
      "      Successfully uninstalled pandas-0.22.0\n",
      "  Found existing installation: matplotlib 2.1.2\n",
      "    Uninstalling matplotlib-2.1.2:\n",
      "      Successfully uninstalled matplotlib-2.1.2\n",
      "Successfully installed autograd-1.3 autograd-gamma-0.4.1 future-0.18.0 kiwisolver-1.1.0 lifelines-0.22.8 matplotlib-3.1.1 pandas-0.25.1\n"
     ]
    }
   ],
   "source": [
    "!pip install lifelines  -i http://pypi.douban.com/simple/ --trusted-host pypi.douban.com\n",
    "    \n",
    "\n"
   ]
  },
  {
   "cell_type": "code",
   "execution_count": 13,
   "metadata": {},
   "outputs": [],
   "source": [
    "import lifelines"
   ]
  },
  {
   "cell_type": "code",
   "execution_count": 16,
   "metadata": {},
   "outputs": [
    {
     "name": "stdout",
     "output_type": "stream",
     "text": [
      "<class 'pandas.core.frame.DataFrame'>\n",
      "RangeIndex: 163 entries, 0 to 162\n",
      "Data columns (total 3 columns):\n",
      "T        163 non-null float64\n",
      "E        163 non-null int64\n",
      "group    163 non-null object\n",
      "dtypes: float64(1), int64(1), object(1)\n",
      "memory usage: 3.9+ KB\n"
     ]
    }
   ],
   "source": [
    "from lifelines.datasets import load_waltons\n",
    "from lifelines import KaplanMeierFitter\n",
    "from lifelines.statistics import logrank_test\n",
    "df=load_waltons()\n",
    "df.info()"
   ]
  },
  {
   "cell_type": "code",
   "execution_count": 17,
   "metadata": {},
   "outputs": [
    {
     "data": {
      "text/html": [
       "<div>\n",
       "<style scoped>\n",
       "    .dataframe tbody tr th:only-of-type {\n",
       "        vertical-align: middle;\n",
       "    }\n",
       "\n",
       "    .dataframe tbody tr th {\n",
       "        vertical-align: top;\n",
       "    }\n",
       "\n",
       "    .dataframe thead th {\n",
       "        text-align: right;\n",
       "    }\n",
       "</style>\n",
       "<table border=\"1\" class=\"dataframe\">\n",
       "  <thead>\n",
       "    <tr style=\"text-align: right;\">\n",
       "      <th></th>\n",
       "      <th>T</th>\n",
       "      <th>E</th>\n",
       "    </tr>\n",
       "  </thead>\n",
       "  <tbody>\n",
       "    <tr>\n",
       "      <td>count</td>\n",
       "      <td>163.000000</td>\n",
       "      <td>163.000000</td>\n",
       "    </tr>\n",
       "    <tr>\n",
       "      <td>mean</td>\n",
       "      <td>49.613497</td>\n",
       "      <td>0.957055</td>\n",
       "    </tr>\n",
       "    <tr>\n",
       "      <td>std</td>\n",
       "      <td>17.078007</td>\n",
       "      <td>0.203357</td>\n",
       "    </tr>\n",
       "    <tr>\n",
       "      <td>min</td>\n",
       "      <td>6.000000</td>\n",
       "      <td>0.000000</td>\n",
       "    </tr>\n",
       "    <tr>\n",
       "      <td>25%</td>\n",
       "      <td>41.000000</td>\n",
       "      <td>1.000000</td>\n",
       "    </tr>\n",
       "    <tr>\n",
       "      <td>50%</td>\n",
       "      <td>56.000000</td>\n",
       "      <td>1.000000</td>\n",
       "    </tr>\n",
       "    <tr>\n",
       "      <td>75%</td>\n",
       "      <td>61.000000</td>\n",
       "      <td>1.000000</td>\n",
       "    </tr>\n",
       "    <tr>\n",
       "      <td>max</td>\n",
       "      <td>75.000000</td>\n",
       "      <td>1.000000</td>\n",
       "    </tr>\n",
       "  </tbody>\n",
       "</table>\n",
       "</div>"
      ],
      "text/plain": [
       "                T           E\n",
       "count  163.000000  163.000000\n",
       "mean    49.613497    0.957055\n",
       "std     17.078007    0.203357\n",
       "min      6.000000    0.000000\n",
       "25%     41.000000    1.000000\n",
       "50%     56.000000    1.000000\n",
       "75%     61.000000    1.000000\n",
       "max     75.000000    1.000000"
      ]
     },
     "execution_count": 17,
     "metadata": {},
     "output_type": "execute_result"
    }
   ],
   "source": [
    "df.describe()"
   ]
  },
  {
   "cell_type": "code",
   "execution_count": 19,
   "metadata": {},
   "outputs": [
    {
     "data": {
      "text/plain": [
       "0      miR-137\n",
       "1      miR-137\n",
       "2      miR-137\n",
       "3      miR-137\n",
       "4      miR-137\n",
       "        ...   \n",
       "158    control\n",
       "159    control\n",
       "160    control\n",
       "161    control\n",
       "162    control\n",
       "Name: group, Length: 163, dtype: object"
      ]
     },
     "execution_count": 19,
     "metadata": {},
     "output_type": "execute_result"
    }
   ],
   "source": [
    "df.group"
   ]
  },
  {
   "cell_type": "code",
   "execution_count": 35,
   "metadata": {},
   "outputs": [
    {
     "data": {
      "image/png": "[encoded data removed]",
      "text/plain": [
       "<Figure size 432x288 with 1 Axes>"
      ]
     },
     "metadata": {},
     "output_type": "display_data"
    }
   ],
   "source": [
    "import matplotlib.pyplot as plt\n",
    "fig,ax=plt.subplots(1)\n",
    "T=df.T\n",
    "E=df.E\n",
    "groups=df.group\n",
    "df1=df[df['group']=='miR-137']\n",
    "df2=df[df['group']!='miR-137']\n",
    "kmf=KaplanMeierFitter()\n",
    "obs=kmf.fit(df1['T'],df1['E'],label='miR-137')\n",
    "obs.plot(ax=ax)\n",
    "countrol=kmf.fit(df2['T'],df2['E'],label='Control')\n",
    "countrol.plot(ax=ax)\n",
    "plt.show()\n",
    "#kmf.fit"
   ]
  },
  {
   "cell_type": "code",
   "execution_count": 36,
   "metadata": {},
   "outputs": [
    {
     "name": "stdout",
     "output_type": "stream",
     "text": [
      "<lifelines.StatisticalResult>\n",
      "               t_0 = -1\n",
      " null_distribution = chi squared\n",
      "degrees_of_freedom = 1\n",
      "\n",
      "---\n",
      " test_statistic      p  -log2(p)\n",
      "         122.25 <0.005     91.99\n"
     ]
    }
   ],
   "source": [
    "results=logrank_test(df1['T'],df2['T'],event_observed_A=df1['E'],event_observed_B=df2['E'])\n",
    "results.print_summary()"
   ]
  },
  {
   "cell_type": "markdown",
   "metadata": {},
   "source": [
    "## 第11章 ，线性回归分析"
   ]
  },
  {
   "cell_type": "code",
   "execution_count": 15,
   "metadata": {},
   "outputs": [],
   "source": [
    "import numpy as np\n",
    "from pandas import DataFrame,Series\n",
    "import pandas as pd\n",
    "import matplotlib.pyplot as plt\n",
    "\n"
   ]
  },
  {
   "cell_type": "code",
   "execution_count": 17,
   "metadata": {},
   "outputs": [],
   "source": [
    "import statsmodels.formula.api as smf\n"
   ]
  },
  {
   "cell_type": "code",
   "execution_count": 56,
   "metadata": {},
   "outputs": [],
   "source": [
    "import cython\n",
    "import scipy"
   ]
  },
  {
   "cell_type": "code",
   "execution_count": null,
   "metadata": {},
   "outputs": [],
   "source": [
    "import statsmodels.api as sm "
   ]
  },
  {
   "cell_type": "code",
   "execution_count": null,
   "metadata": {},
   "outputs": [],
   "source": []
  },
  {
   "cell_type": "code",
   "execution_count": null,
   "metadata": {},
   "outputs": [],
   "source": []
  },
  {
   "cell_type": "code",
   "execution_count": 13,
   "metadata": {},
   "outputs": [
    {
     "name": "stdout",
     "output_type": "stream",
     "text": [
      "[102.342   5.953]\n",
      "[1.502e+02 3.025e+00 2.957e-02]\n",
      "[ 1.801e+02  9.781e-02 -4.253e-04]\n"
     ]
    },
    {
     "name": "stderr",
     "output_type": "stream",
     "text": [
      "/Users/ccf8210/anaconda3/lib/python3.6/site-packages/ipykernel_launcher.py:7: FutureWarning: `rcond` parameter will change to the default of machine precision times ``max(M, N)`` where M and N are the input matrix dimensions.\n",
      "To use the future default and silence this warning we advise to pass `rcond=None`, to keep using the old, explicitly pass `rcond=-1`.\n",
      "  import sys\n",
      "/Users/ccf8210/anaconda3/lib/python3.6/site-packages/ipykernel_launcher.py:8: FutureWarning: `rcond` parameter will change to the default of machine precision times ``max(M, N)`` where M and N are the input matrix dimensions.\n",
      "To use the future default and silence this warning we advise to pass `rcond=None`, to keep using the old, explicitly pass `rcond=-1`.\n",
      "  \n",
      "/Users/ccf8210/anaconda3/lib/python3.6/site-packages/ipykernel_launcher.py:9: FutureWarning: `rcond` parameter will change to the default of machine precision times ``max(M, N)`` where M and N are the input matrix dimensions.\n",
      "To use the future default and silence this warning we advise to pass `rcond=None`, to keep using the old, explicitly pass `rcond=-1`.\n",
      "  if __name__ == '__main__':\n"
     ]
    }
   ],
   "source": [
    "x=np.arange(100)\n",
    "y=150+3*x+0.03*x**2+5*np.random.randn(len(x))\n",
    "M1=np.vstack((np.ones_like(x),x)).T\n",
    "M2=np.vstack((np.ones_like(x),x,x**2)).T\n",
    "M3=np.vstack((np.ones_like(x),x**2,x**3)).T\n",
    "###解方程\n",
    "p1=np.linalg.lstsq(M1,y)\n",
    "p2=np.linalg.lstsq(M2,y)\n",
    "p3=np.linalg.lstsq(M3,y)\n",
    "\n",
    "np.set_printoptions(precision=3)\n",
    "print(p1[0])\n",
    "print(p2[0])\n",
    "print(p3[0])"
   ]
  },
  {
   "cell_type": "code",
   "execution_count": 33,
   "metadata": {},
   "outputs": [
    {
     "data": {
      "text/html": [
       "<div>\n",
       "<style scoped>\n",
       "    .dataframe tbody tr th:only-of-type {\n",
       "        vertical-align: middle;\n",
       "    }\n",
       "\n",
       "    .dataframe tbody tr th {\n",
       "        vertical-align: top;\n",
       "    }\n",
       "\n",
       "    .dataframe thead th {\n",
       "        text-align: right;\n",
       "    }\n",
       "</style>\n",
       "<table border=\"1\" class=\"dataframe\">\n",
       "  <thead>\n",
       "    <tr style=\"text-align: right;\">\n",
       "      <th></th>\n",
       "      <th>x</th>\n",
       "      <th>y</th>\n",
       "    </tr>\n",
       "  </thead>\n",
       "  <tbody>\n",
       "    <tr>\n",
       "      <td>0</td>\n",
       "      <td>0</td>\n",
       "      <td>160.478175</td>\n",
       "    </tr>\n",
       "    <tr>\n",
       "      <td>1</td>\n",
       "      <td>1</td>\n",
       "      <td>151.609980</td>\n",
       "    </tr>\n",
       "    <tr>\n",
       "      <td>2</td>\n",
       "      <td>2</td>\n",
       "      <td>155.980802</td>\n",
       "    </tr>\n",
       "    <tr>\n",
       "      <td>3</td>\n",
       "      <td>3</td>\n",
       "      <td>159.657673</td>\n",
       "    </tr>\n",
       "    <tr>\n",
       "      <td>4</td>\n",
       "      <td>4</td>\n",
       "      <td>163.344427</td>\n",
       "    </tr>\n",
       "  </tbody>\n",
       "</table>\n",
       "</div>"
      ],
      "text/plain": [
       "   x           y\n",
       "0  0  160.478175\n",
       "1  1  151.609980\n",
       "2  2  155.980802\n",
       "3  3  159.657673\n",
       "4  4  163.344427"
      ]
     },
     "execution_count": 33,
     "metadata": {},
     "output_type": "execute_result"
    }
   ],
   "source": [
    "x=np.arange(20)\n",
    "y=150+3*x+0.03*x**2+5*np.random.randn(len(x))\n",
    "from statsmodels.formula.api import ols\n",
    "df=DataFrame({'x':x,'y':y})\n",
    "#res1F=ols('y ~C(x)',data=df).fit()\n",
    "df.head()"
   ]
  },
  {
   "cell_type": "code",
   "execution_count": null,
   "metadata": {},
   "outputs": [],
   "source": []
  },
  {
   "cell_type": "code",
   "execution_count": null,
   "metadata": {},
   "outputs": [],
   "source": []
  }
 ],
 "metadata": {
  "kernelspec": {
   "display_name": "Python 3",
   "language": "python",
   "name": "python3"
  },
  "language_info": {
   "codemirror_mode": {
    "name": "ipython",
    "version": 3
   },
   "file_extension": ".py",
   "mimetype": "text/x-python",
   "name": "python",
   "nbconvert_exporter": "python",
   "pygments_lexer": "ipython3",
   "version": "3.7.4"
  }
 },
 "nbformat": 4,
 "nbformat_minor": 2
}
